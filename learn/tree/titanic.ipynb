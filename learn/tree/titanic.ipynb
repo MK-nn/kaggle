{
 "cells": [
  {
   "cell_type": "code",
   "execution_count": 10,
   "metadata": {},
   "outputs": [],
   "source": [
    "import pandas as pd\n",
    "import numpy as np\n",
    "\n",
    "train = pd.read_csv('../input/train.csv')\n",
    "test = pd.read_csv('../input/test.csv')"
   ]
  },
  {
   "cell_type": "code",
   "execution_count": 11,
   "metadata": {},
   "outputs": [],
   "source": [
    "train[\"Age\"].fillna(train[\"Age\"].median(), inplace=True)\n",
    "train[\"Embarked\"].fillna(train[\"Embarked\"].mode()[0], inplace=True)\n",
    "train[\"Sex\"].replace({\"male\":0, \"female\":1}, inplace=True)\n",
    "train[\"Embarked\"].replace({\"S\":0, \"C\":1, \"Q\":2}, inplace=True)\n",
    "test[\"Age\"].fillna(test[\"Age\"].median(), inplace=True)\n",
    "test[\"Embarked\"].fillna(test[\"Embarked\"].mode()[0], inplace=True)\n",
    "test[\"Fare\"].fillna(test[\"Fare\"].median(), inplace=True)\n",
    "test[\"Sex\"].replace({\"male\": 0, \"female\": 1}, inplace=True)\n",
    "test[\"Embarked\"].replace({\"S\": 0, \"C\": 1, \"Q\": 2}, inplace=True)"
   ]
  },
  {
   "cell_type": "code",
   "execution_count": 12,
   "metadata": {},
   "outputs": [
    {
     "name": "stdout",
     "output_type": "stream",
     "text": [
      "max_depth: 1 => score: 78.67428284476806\n",
      "max_depth: 2 => score: 76.8765300357793\n",
      "max_depth: 3 => score: 80.46889711882493\n",
      "max_depth: 4 => score: 80.58000125541398\n",
      "max_depth: 5 => score: 81.47573912497646\n",
      "max_depth: 6 => score: 81.70045822610004\n",
      "max_depth: 7 => score: 81.81407319063462\n",
      "max_depth: 8 => score: 80.35402674031761\n",
      "max_depth: 9 => score: 80.1305630531668\n"
     ]
    }
   ],
   "source": [
    "# 最適な木の深さを探索する\n",
    "from sklearn import tree\n",
    "\n",
    "dependent_variables = train[\"Survived\"].values\n",
    "independent_variables = train[[\"Pclass\", \"Sex\", \"Age\", \"Fare\"]].values\n",
    "\n",
    "array_length = len(independent_variables)\n",
    "for i in range(1, 10):\n",
    "    score_to_mean = 0\n",
    "    for j in range(0, 5):\n",
    "        test_dependent_variables = dependent_variables[int(array_length * j / 5):int(array_length * (j + 1) / 5)]\n",
    "        test_independent_variables = independent_variables[int(array_length * j / 5):int(array_length * (j + 1) / 5)]\n",
    "\n",
    "        train_dependent_variables = np.concatenate([dependent_variables[0:int(array_length * j / 5)], dependent_variables[int(array_length * (j + 1) / 5):array_length]])\n",
    "        train_independent_variables = np.concatenate([independent_variables[0:int(\n",
    "            array_length * j / 5)], independent_variables[int(array_length * (j + 1) / 5):array_length]])\n",
    "\n",
    "\n",
    "        tree_model = tree.DecisionTreeClassifier(max_depth=i)\n",
    "        tree_model.fit(train_independent_variables, train_dependent_variables)\n",
    "        \n",
    "        prediction = tree_model.predict(test_independent_variables)\n",
    "\n",
    "        score_to_mean += np.count_nonzero(prediction == test_dependent_variables,\n",
    "                                          axis=0)/len(test_dependent_variables)\n",
    "\n",
    "    print(\"max_depth:\", i, \"=>\", \"score:\", score_to_mean * 100/5)\n",
    "\n"
   ]
  },
  {
   "cell_type": "code",
   "execution_count": 13,
   "metadata": {},
   "outputs": [],
   "source": [
    "# 深さ7の木で学習する\n",
    "# score: 0.77272\n",
    "decision_tree = tree.DecisionTreeClassifier(max_depth=7).fit(\n",
    "    independent_variables, dependent_variables)\n",
    "\n",
    "result_independent_variables = test[[\"Pclass\", \"Sex\", \"Age\", \"Fare\"]].values\n",
    "prediction = decision_tree.predict(result_independent_variables)\n",
    "PassengerId = np.array(test[\"PassengerId\"])\n",
    "result = pd.DataFrame({\"PassengerId\": PassengerId, \"Survived\": prediction})\n",
    "result.to_csv(\"../output/result_tree.csv\", index=False)\n"
   ]
  },
  {
   "cell_type": "code",
   "execution_count": 14,
   "metadata": {},
   "outputs": [
    {
     "name": "stdout",
     "output_type": "stream",
     "text": [
      "max: 82.37461552947084 max_tuple: ('Pclass', 'Age', 'Sex', 'SibSp', 'Embarked') max_learning: 7\n"
     ]
    }
   ],
   "source": [
    "# 引数を変えて算出してみる\n",
    "import itertools\n",
    "from sklearn import tree\n",
    "max = 0\n",
    "max_tuple = ()\n",
    "max_learning = 0\n",
    "\n",
    "dependent_variables = train[\"Survived\"].values\n",
    "variables = [\"Pclass\", \"Age\",\n",
    "             \"Sex\", \"Fare\", \"SibSp\", \"Parch\", \"Embarked\"]\n",
    "# independent_variables = train[[\"Pclass\", \"Sex\", \"Age\", \"Fare\"]].values\n",
    "for n in range(1, len(variables)+1):\n",
    "  for variable_tapples in itertools.combinations(variables, n):\n",
    "\n",
    "    independent_variables = train[list(variable_tapples)].values\n",
    "    array_length = len(independent_variables)\n",
    "\n",
    "    for i in range(1, 10):\n",
    "      score_to_mean = 0\n",
    "      for j in range(0, 5):\n",
    "          test_dependent_variables = dependent_variables[int(\n",
    "              array_length * j / 5):int(array_length * (j + 1) / 5)]\n",
    "          test_independent_variables = independent_variables[int(\n",
    "              array_length * j / 5):int(array_length * (j + 1) / 5)]\n",
    "\n",
    "          train_dependent_variables = np.concatenate([dependent_variables[0:int(\n",
    "              array_length * j / 5)], dependent_variables[int(array_length * (j + 1) / 5):array_length]])\n",
    "          train_independent_variables = np.concatenate([independent_variables[0:int(\n",
    "              array_length * j / 5)], independent_variables[int(array_length * (j + 1) / 5):array_length]])\n",
    "\n",
    "          tree_model = tree.DecisionTreeClassifier(max_depth=i)\n",
    "          tree_model.fit(train_independent_variables, train_dependent_variables)\n",
    "\n",
    "          prediction = tree_model.predict(test_independent_variables)\n",
    "\n",
    "          score_to_mean += np.count_nonzero(prediction == test_dependent_variables,\n",
    "                                            axis=0)/len(test_dependent_variables)\n",
    "\n",
    "      if max < score_to_mean * 100/5:\n",
    "        max = score_to_mean * 100/5\n",
    "        max_tuple = variable_tapples\n",
    "        max_learning = i\n",
    "\n",
    "print(\"max:\", max, \"max_tuple:\", max_tuple, \"max_learning:\", max_learning)"
   ]
  },
  {
   "cell_type": "code",
   "execution_count": 15,
   "metadata": {},
   "outputs": [],
   "source": [
    "# 学習する\n",
    "#　大きくscoreが下がったので最適なパラメータの探索はもう少し工夫が必要だ\n",
    "# score: 0.74401\n",
    "\n",
    "dependent_variables = train[\"Survived\"].values\n",
    "independent_variables = train[[\n",
    "    'Pclass', 'Age', 'Sex', 'SibSp', 'Embarked']].values\n",
    "\n",
    "decision_tree = tree.DecisionTreeClassifier(max_depth=7).fit(\n",
    "    independent_variables, dependent_variables)\n",
    "\n",
    "result_independent_variables = test[[\n",
    "    'Pclass', 'Age', 'Sex', 'SibSp', 'Embarked']].values\n",
    "prediction = decision_tree.predict(result_independent_variables)\n",
    "PassengerId = np.array(test[\"PassengerId\"])\n",
    "result = pd.DataFrame({\"PassengerId\": PassengerId, \"Survived\": prediction})\n",
    "result.to_csv(\"../output/result_tree.csv\", index=False)\n"
   ]
  },
  {
   "cell_type": "code",
   "execution_count": 16,
   "metadata": {},
   "outputs": [],
   "source": [
    "# 引数の問題はランダムフォレストで解決しよう！\n",
    "# 学習する\n",
    "#　大きくscoreが下がったので最適なパラメータの探索はもう少し工夫が必要だ\n",
    "# 深さ 7 と 5 で比べると 5 の方が良い\n",
    "# 上記のような引数の決め方ではよくないということがわかった\n",
    "# →引数は多く入れた方がいいみたい(選択されるから)\n",
    "# きの深さは設定した方がいいが、5と7では0.05程度の差(設定しなければ0.04)\n",
    "# score: 0.78708\n",
    "from sklearn.ensemble import RandomForestClassifier\n",
    "\n",
    "dependent_variables = train[\"Survived\"].values\n",
    "independent_variables = train[[\"Pclass\", \"Age\",\n",
    "                              \"Sex\", \"Fare\", \"SibSp\", \"Parch\", \"Embarked\"]].values\n",
    "\n",
    "model = RandomForestClassifier(max_depth=5).fit(\n",
    "    independent_variables, dependent_variables)\n",
    "\n",
    "result_independent_variables = test[[\"Pclass\", \"Age\",\n",
    "                                    \"Sex\", \"Fare\", \"SibSp\", \"Parch\", \"Embarked\"]].values\n",
    "prediction = model.predict(result_independent_variables)\n",
    "PassengerId = np.array(test[\"PassengerId\"])\n",
    "result = pd.DataFrame({\"PassengerId\": PassengerId, \"Survived\": prediction})\n",
    "result.to_csv(\"../output/result_tree.csv\", index=False)\n"
   ]
  },
  {
   "cell_type": "code",
   "execution_count": 79,
   "metadata": {},
   "outputs": [
    {
     "name": "stderr",
     "output_type": "stream",
     "text": [
      "<ipython-input-79-552abb3ebdee>:2: FutureWarning: The default value of regex will change from True to False in a future version.\n",
      "  train['family_name'] = train['Name'].str.replace('Mr. ', '').str.replace('Mrs. ', '').str.replace('Mr. ', '').str.replace(\n"
     ]
    }
   ],
   "source": [
    "train['Name'].str.split(' ', n=2).str.get(2)\n",
    "train['family_name'] = train['Name'].str.replace('Mr. ', '').str.replace('Mrs. ', '').str.replace('Mr. ', '').str.replace(\n",
    "    'Miss. ', '').str.replace('Master. ', '').str.replace('Dr. ', '').str.replace('Rev. ', '').str.split(' ', n=2).str.get(1)\n"
   ]
  },
  {
   "cell_type": "code",
   "execution_count": 94,
   "metadata": {},
   "outputs": [],
   "source": [
    "train['honorific'] = train['Name'].str.split(', ', n=1).str.get(1).str.split(\n",
    "    ' ', n=1).str.get(0)\n",
    "test['honorific'] = test['Name'].str.split(', ', n=1).str.get(1).str.split(\n",
    "    ' ', n=1).str.get(0)\n"
   ]
  },
  {
   "cell_type": "code",
   "execution_count": 95,
   "metadata": {},
   "outputs": [
    {
     "ename": "ValueError",
     "evalue": "could not convert string to float: 'Mr.'",
     "output_type": "error",
     "traceback": [
      "\u001b[0;31m---------------------------------------------------------------------------\u001b[0m",
      "\u001b[0;31mValueError\u001b[0m                                Traceback (most recent call last)",
      "\u001b[0;32m<ipython-input-95-5676926d69f4>\u001b[0m in \u001b[0;36m<module>\u001b[0;34m\u001b[0m\n\u001b[1;32m      5\u001b[0m                               \"Sex\", \"Fare\", \"SibSp\", \"Parch\", \"Embarked\", \"honorific\"]].values\n\u001b[1;32m      6\u001b[0m \u001b[0;34m\u001b[0m\u001b[0m\n\u001b[0;32m----> 7\u001b[0;31m model = RandomForestClassifier(max_depth=5).fit(\n\u001b[0m\u001b[1;32m      8\u001b[0m     independent_variables, dependent_variables)\n\u001b[1;32m      9\u001b[0m \u001b[0;34m\u001b[0m\u001b[0m\n",
      "\u001b[0;32m~/.anyenv/envs/pyenv/versions/3.9.0/lib/python3.9/site-packages/sklearn/ensemble/_forest.py\u001b[0m in \u001b[0;36mfit\u001b[0;34m(self, X, y, sample_weight)\u001b[0m\n\u001b[1;32m    324\u001b[0m         \u001b[0;32mif\u001b[0m \u001b[0missparse\u001b[0m\u001b[0;34m(\u001b[0m\u001b[0my\u001b[0m\u001b[0;34m)\u001b[0m\u001b[0;34m:\u001b[0m\u001b[0;34m\u001b[0m\u001b[0;34m\u001b[0m\u001b[0m\n\u001b[1;32m    325\u001b[0m             \u001b[0;32mraise\u001b[0m \u001b[0mValueError\u001b[0m\u001b[0;34m(\u001b[0m\u001b[0;34m\"sparse multilabel-indicator for y is not supported.\"\u001b[0m\u001b[0;34m)\u001b[0m\u001b[0;34m\u001b[0m\u001b[0;34m\u001b[0m\u001b[0m\n\u001b[0;32m--> 326\u001b[0;31m         X, y = self._validate_data(\n\u001b[0m\u001b[1;32m    327\u001b[0m             \u001b[0mX\u001b[0m\u001b[0;34m,\u001b[0m \u001b[0my\u001b[0m\u001b[0;34m,\u001b[0m \u001b[0mmulti_output\u001b[0m\u001b[0;34m=\u001b[0m\u001b[0;32mTrue\u001b[0m\u001b[0;34m,\u001b[0m \u001b[0maccept_sparse\u001b[0m\u001b[0;34m=\u001b[0m\u001b[0;34m\"csc\"\u001b[0m\u001b[0;34m,\u001b[0m \u001b[0mdtype\u001b[0m\u001b[0;34m=\u001b[0m\u001b[0mDTYPE\u001b[0m\u001b[0;34m\u001b[0m\u001b[0;34m\u001b[0m\u001b[0m\n\u001b[1;32m    328\u001b[0m         )\n",
      "\u001b[0;32m~/.anyenv/envs/pyenv/versions/3.9.0/lib/python3.9/site-packages/sklearn/base.py\u001b[0m in \u001b[0;36m_validate_data\u001b[0;34m(self, X, y, reset, validate_separately, **check_params)\u001b[0m\n\u001b[1;32m    570\u001b[0m                 \u001b[0my\u001b[0m \u001b[0;34m=\u001b[0m \u001b[0mcheck_array\u001b[0m\u001b[0;34m(\u001b[0m\u001b[0my\u001b[0m\u001b[0;34m,\u001b[0m \u001b[0;34m**\u001b[0m\u001b[0mcheck_y_params\u001b[0m\u001b[0;34m)\u001b[0m\u001b[0;34m\u001b[0m\u001b[0;34m\u001b[0m\u001b[0m\n\u001b[1;32m    571\u001b[0m             \u001b[0;32melse\u001b[0m\u001b[0;34m:\u001b[0m\u001b[0;34m\u001b[0m\u001b[0;34m\u001b[0m\u001b[0m\n\u001b[0;32m--> 572\u001b[0;31m                 \u001b[0mX\u001b[0m\u001b[0;34m,\u001b[0m \u001b[0my\u001b[0m \u001b[0;34m=\u001b[0m \u001b[0mcheck_X_y\u001b[0m\u001b[0;34m(\u001b[0m\u001b[0mX\u001b[0m\u001b[0;34m,\u001b[0m \u001b[0my\u001b[0m\u001b[0;34m,\u001b[0m \u001b[0;34m**\u001b[0m\u001b[0mcheck_params\u001b[0m\u001b[0;34m)\u001b[0m\u001b[0;34m\u001b[0m\u001b[0;34m\u001b[0m\u001b[0m\n\u001b[0m\u001b[1;32m    573\u001b[0m             \u001b[0mout\u001b[0m \u001b[0;34m=\u001b[0m \u001b[0mX\u001b[0m\u001b[0;34m,\u001b[0m \u001b[0my\u001b[0m\u001b[0;34m\u001b[0m\u001b[0;34m\u001b[0m\u001b[0m\n\u001b[1;32m    574\u001b[0m \u001b[0;34m\u001b[0m\u001b[0m\n",
      "\u001b[0;32m~/.anyenv/envs/pyenv/versions/3.9.0/lib/python3.9/site-packages/sklearn/utils/validation.py\u001b[0m in \u001b[0;36mcheck_X_y\u001b[0;34m(X, y, accept_sparse, accept_large_sparse, dtype, order, copy, force_all_finite, ensure_2d, allow_nd, multi_output, ensure_min_samples, ensure_min_features, y_numeric, estimator)\u001b[0m\n\u001b[1;32m    954\u001b[0m         \u001b[0;32mraise\u001b[0m \u001b[0mValueError\u001b[0m\u001b[0;34m(\u001b[0m\u001b[0;34m\"y cannot be None\"\u001b[0m\u001b[0;34m)\u001b[0m\u001b[0;34m\u001b[0m\u001b[0;34m\u001b[0m\u001b[0m\n\u001b[1;32m    955\u001b[0m \u001b[0;34m\u001b[0m\u001b[0m\n\u001b[0;32m--> 956\u001b[0;31m     X = check_array(\n\u001b[0m\u001b[1;32m    957\u001b[0m         \u001b[0mX\u001b[0m\u001b[0;34m,\u001b[0m\u001b[0;34m\u001b[0m\u001b[0;34m\u001b[0m\u001b[0m\n\u001b[1;32m    958\u001b[0m         \u001b[0maccept_sparse\u001b[0m\u001b[0;34m=\u001b[0m\u001b[0maccept_sparse\u001b[0m\u001b[0;34m,\u001b[0m\u001b[0;34m\u001b[0m\u001b[0;34m\u001b[0m\u001b[0m\n",
      "\u001b[0;32m~/.anyenv/envs/pyenv/versions/3.9.0/lib/python3.9/site-packages/sklearn/utils/validation.py\u001b[0m in \u001b[0;36mcheck_array\u001b[0;34m(array, accept_sparse, accept_large_sparse, dtype, order, copy, force_all_finite, ensure_2d, allow_nd, ensure_min_samples, ensure_min_features, estimator)\u001b[0m\n\u001b[1;32m    736\u001b[0m                     \u001b[0marray\u001b[0m \u001b[0;34m=\u001b[0m \u001b[0marray\u001b[0m\u001b[0;34m.\u001b[0m\u001b[0mastype\u001b[0m\u001b[0;34m(\u001b[0m\u001b[0mdtype\u001b[0m\u001b[0;34m,\u001b[0m \u001b[0mcasting\u001b[0m\u001b[0;34m=\u001b[0m\u001b[0;34m\"unsafe\"\u001b[0m\u001b[0;34m,\u001b[0m \u001b[0mcopy\u001b[0m\u001b[0;34m=\u001b[0m\u001b[0;32mFalse\u001b[0m\u001b[0;34m)\u001b[0m\u001b[0;34m\u001b[0m\u001b[0;34m\u001b[0m\u001b[0m\n\u001b[1;32m    737\u001b[0m                 \u001b[0;32melse\u001b[0m\u001b[0;34m:\u001b[0m\u001b[0;34m\u001b[0m\u001b[0;34m\u001b[0m\u001b[0m\n\u001b[0;32m--> 738\u001b[0;31m                     \u001b[0marray\u001b[0m \u001b[0;34m=\u001b[0m \u001b[0mnp\u001b[0m\u001b[0;34m.\u001b[0m\u001b[0masarray\u001b[0m\u001b[0;34m(\u001b[0m\u001b[0marray\u001b[0m\u001b[0;34m,\u001b[0m \u001b[0morder\u001b[0m\u001b[0;34m=\u001b[0m\u001b[0morder\u001b[0m\u001b[0;34m,\u001b[0m \u001b[0mdtype\u001b[0m\u001b[0;34m=\u001b[0m\u001b[0mdtype\u001b[0m\u001b[0;34m)\u001b[0m\u001b[0;34m\u001b[0m\u001b[0;34m\u001b[0m\u001b[0m\n\u001b[0m\u001b[1;32m    739\u001b[0m             \u001b[0;32mexcept\u001b[0m \u001b[0mComplexWarning\u001b[0m \u001b[0;32mas\u001b[0m \u001b[0mcomplex_warning\u001b[0m\u001b[0;34m:\u001b[0m\u001b[0;34m\u001b[0m\u001b[0;34m\u001b[0m\u001b[0m\n\u001b[1;32m    740\u001b[0m                 raise ValueError(\n",
      "\u001b[0;32m~/.anyenv/envs/pyenv/versions/3.9.0/lib/python3.9/site-packages/numpy/core/_asarray.py\u001b[0m in \u001b[0;36masarray\u001b[0;34m(a, dtype, order)\u001b[0m\n\u001b[1;32m     81\u001b[0m \u001b[0;34m\u001b[0m\u001b[0m\n\u001b[1;32m     82\u001b[0m     \"\"\"\n\u001b[0;32m---> 83\u001b[0;31m     \u001b[0;32mreturn\u001b[0m \u001b[0marray\u001b[0m\u001b[0;34m(\u001b[0m\u001b[0ma\u001b[0m\u001b[0;34m,\u001b[0m \u001b[0mdtype\u001b[0m\u001b[0;34m,\u001b[0m \u001b[0mcopy\u001b[0m\u001b[0;34m=\u001b[0m\u001b[0;32mFalse\u001b[0m\u001b[0;34m,\u001b[0m \u001b[0morder\u001b[0m\u001b[0;34m=\u001b[0m\u001b[0morder\u001b[0m\u001b[0;34m)\u001b[0m\u001b[0;34m\u001b[0m\u001b[0;34m\u001b[0m\u001b[0m\n\u001b[0m\u001b[1;32m     84\u001b[0m \u001b[0;34m\u001b[0m\u001b[0m\n\u001b[1;32m     85\u001b[0m \u001b[0;34m\u001b[0m\u001b[0m\n",
      "\u001b[0;31mValueError\u001b[0m: could not convert string to float: 'Mr.'"
     ]
    }
   ],
   "source": [
    "from sklearn.ensemble import RandomForestClassifier\n",
    "\n",
    "dependent_variables = train[\"Survived\"].values\n",
    "independent_variables = train[[\"Pclass\", \"Age\",\n",
    "                              \"Sex\", \"Fare\", \"SibSp\", \"Parch\", \"Embarked\", \"honorific\"]].values\n",
    "\n",
    "model = RandomForestClassifier(max_depth=5).fit(\n",
    "    independent_variables, dependent_variables)\n",
    "\n",
    "result_independent_variables = test[[\"Pclass\", \"Age\",\n",
    "                                    \"Sex\", \"Fare\", \"SibSp\", \"Parch\", \"Embarked\", \"honorific\"]].values\n",
    "prediction = model.predict(result_independent_variables)\n",
    "PassengerId = np.array(test[\"PassengerId\"])\n",
    "result = pd.DataFrame({\"PassengerId\": PassengerId, \"Survived\": prediction})\n",
    "result.to_csv(\"../output/result_tree.csv\", index=False)\n"
   ]
  },
  {
   "cell_type": "code",
   "execution_count": null,
   "metadata": {},
   "outputs": [],
   "source": []
  }
 ],
 "metadata": {
  "kernelspec": {
   "display_name": "Python 3.9.0 64-bit ('3.9.0')",
   "language": "python",
   "name": "python3"
  },
  "language_info": {
   "codemirror_mode": {
    "name": "ipython",
    "version": 3
   },
   "file_extension": ".py",
   "mimetype": "text/x-python",
   "name": "python",
   "nbconvert_exporter": "python",
   "pygments_lexer": "ipython3",
   "version": "3.9.0"
  },
  "orig_nbformat": 4,
  "vscode": {
   "interpreter": {
    "hash": "82c96d1983e0d3e65e76c10e92d0aeb5abf27fc3447caab3b1acc74da6e237c2"
   }
  }
 },
 "nbformat": 4,
 "nbformat_minor": 2
}
