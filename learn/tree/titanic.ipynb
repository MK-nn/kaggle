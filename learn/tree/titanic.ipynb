{
 "cells": [
  {
   "cell_type": "code",
   "execution_count": 9,
   "metadata": {},
   "outputs": [],
   "source": [
    "import pandas as pd\n",
    "import numpy as np\n",
    "\n",
    "train = pd.read_csv('../input/train.csv')\n",
    "test = pd.read_csv('../input/test.csv')"
   ]
  },
  {
   "cell_type": "code",
   "execution_count": 10,
   "metadata": {},
   "outputs": [],
   "source": [
    "train[\"Age\"].fillna(train[\"Age\"].median(), inplace=True)\n",
    "train[\"Embarked\"].fillna(train[\"Embarked\"].mode()[0], inplace=True)\n",
    "train[\"Sex\"].replace({\"male\":0, \"female\":1}, inplace=True)\n",
    "train[\"Embarked\"].replace({\"S\":0, \"C\":1, \"Q\":2}, inplace=True)\n",
    "test[\"Age\"].fillna(test[\"Age\"].median(), inplace=True)\n",
    "test[\"Embarked\"].fillna(test[\"Embarked\"].mode()[0], inplace=True)\n",
    "test[\"Fare\"].fillna(test[\"Fare\"].median(), inplace=True)\n",
    "test[\"Sex\"].replace({\"male\": 0, \"female\": 1}, inplace=True)\n",
    "test[\"Embarked\"].replace({\"S\": 0, \"C\": 1, \"Q\": 2}, inplace=True)"
   ]
  },
  {
   "cell_type": "code",
   "execution_count": 11,
   "metadata": {},
   "outputs": [
    {
     "name": "stdout",
     "output_type": "stream",
     "text": [
      "max_depth: 1 => score: 78.67428284476806\n",
      "max_depth: 2 => score: 76.8765300357793\n",
      "max_depth: 3 => score: 80.46889711882493\n",
      "max_depth: 4 => score: 80.58000125541398\n",
      "max_depth: 5 => score: 81.58809867553825\n",
      "max_depth: 6 => score: 81.69983051911368\n",
      "max_depth: 7 => score: 81.81407319063462\n",
      "max_depth: 8 => score: 80.35402674031761\n",
      "max_depth: 9 => score: 79.90584395204318\n"
     ]
    }
   ],
   "source": [
    "# 最適な木の深さを探索する\n",
    "from sklearn import tree\n",
    "\n",
    "dependent_variables = train[\"Survived\"].values\n",
    "independent_variables = train[[\"Pclass\", \"Sex\", \"Age\", \"Fare\"]].values\n",
    "\n",
    "array_length = len(independent_variables)\n",
    "for i in range(1, 10):\n",
    "    score_to_mean = 0\n",
    "    for j in range(0, 5):\n",
    "        test_dependent_variables = dependent_variables[int(array_length * j / 5):int(array_length * (j + 1) / 5)]\n",
    "        test_independent_variables = independent_variables[int(array_length * j / 5):int(array_length * (j + 1) / 5)]\n",
    "\n",
    "        train_dependent_variables = np.concatenate([dependent_variables[0:int(array_length * j / 5)], dependent_variables[int(array_length * (j + 1) / 5):array_length]])\n",
    "        train_independent_variables = np.concatenate([independent_variables[0:int(\n",
    "            array_length * j / 5)], independent_variables[int(array_length * (j + 1) / 5):array_length]])\n",
    "\n",
    "\n",
    "        tree_model = tree.DecisionTreeClassifier(max_depth=i)\n",
    "        tree_model.fit(train_independent_variables, train_dependent_variables)\n",
    "        \n",
    "        prediction = tree_model.predict(test_independent_variables)\n",
    "\n",
    "        score_to_mean += np.count_nonzero(prediction == test_dependent_variables,\n",
    "                                          axis=0)/len(test_dependent_variables)\n",
    "\n",
    "    print(\"max_depth:\", i, \"=>\", \"score:\", score_to_mean * 100/5)\n",
    "\n"
   ]
  },
  {
   "cell_type": "code",
   "execution_count": 12,
   "metadata": {},
   "outputs": [],
   "source": [
    "# 深さ7の木で学習する\n",
    "# score: 0.77272\n",
    "decision_tree = tree.DecisionTreeClassifier(max_depth=7).fit(\n",
    "    independent_variables, dependent_variables)\n",
    "\n",
    "result_independent_variables = test[[\"Pclass\", \"Sex\", \"Age\", \"Fare\"]].values\n",
    "prediction = decision_tree.predict(result_independent_variables)\n",
    "PassengerId = np.array(test[\"PassengerId\"])\n",
    "result = pd.DataFrame({\"PassengerId\": PassengerId, \"Survived\": prediction})\n",
    "result.to_csv(\"../output/result_tree.csv\", index=False)\n"
   ]
  },
  {
   "cell_type": "code",
   "execution_count": 13,
   "metadata": {},
   "outputs": [
    {
     "name": "stdout",
     "output_type": "stream",
     "text": [
      "max: 82.37461552947084 max_tuple: ('Pclass', 'Age', 'Sex', 'SibSp', 'Parch', 'Embarked') max_learning: 7\n"
     ]
    }
   ],
   "source": [
    "# 引数を変えて算出してみる\n",
    "import itertools\n",
    "from sklearn import tree\n",
    "max = 0\n",
    "max_tuple = ()\n",
    "max_learning = 0\n",
    "\n",
    "dependent_variables = train[\"Survived\"].values\n",
    "variables = [\"Pclass\", \"Age\",\n",
    "             \"Sex\", \"Fare\", \"SibSp\", \"Parch\", \"Embarked\"]\n",
    "# independent_variables = train[[\"Pclass\", \"Sex\", \"Age\", \"Fare\"]].values\n",
    "for n in range(1, len(variables)+1):\n",
    "  for variable_tapples in itertools.combinations(variables, n):\n",
    "\n",
    "    independent_variables = train[list(variable_tapples)].values\n",
    "    array_length = len(independent_variables)\n",
    "\n",
    "    for i in range(1, 10):\n",
    "      score_to_mean = 0\n",
    "      for j in range(0, 5):\n",
    "          test_dependent_variables = dependent_variables[int(\n",
    "              array_length * j / 5):int(array_length * (j + 1) / 5)]\n",
    "          test_independent_variables = independent_variables[int(\n",
    "              array_length * j / 5):int(array_length * (j + 1) / 5)]\n",
    "\n",
    "          train_dependent_variables = np.concatenate([dependent_variables[0:int(\n",
    "              array_length * j / 5)], dependent_variables[int(array_length * (j + 1) / 5):array_length]])\n",
    "          train_independent_variables = np.concatenate([independent_variables[0:int(\n",
    "              array_length * j / 5)], independent_variables[int(array_length * (j + 1) / 5):array_length]])\n",
    "\n",
    "          tree_model = tree.DecisionTreeClassifier(max_depth=i)\n",
    "          tree_model.fit(train_independent_variables, train_dependent_variables)\n",
    "\n",
    "          prediction = tree_model.predict(test_independent_variables)\n",
    "\n",
    "          score_to_mean += np.count_nonzero(prediction == test_dependent_variables,\n",
    "                                            axis=0)/len(test_dependent_variables)\n",
    "\n",
    "      if max < score_to_mean * 100/5:\n",
    "        max = score_to_mean * 100/5\n",
    "        max_tuple = variable_tapples\n",
    "        max_learning = i\n",
    "\n",
    "print(\"max:\", max, \"max_tuple:\", max_tuple, \"max_learning:\", max_learning)"
   ]
  },
  {
   "cell_type": "code",
   "execution_count": 14,
   "metadata": {},
   "outputs": [],
   "source": [
    "# 学習する\n",
    "#　大きくscoreが下がったので最適なパラメータの探索はもう少し工夫が必要だ\n",
    "# score: 0.74401\n",
    "\n",
    "dependent_variables = train[\"Survived\"].values\n",
    "independent_variables = train[[\n",
    "    'Pclass', 'Age', 'Sex', 'SibSp', 'Embarked']].values\n",
    "\n",
    "decision_tree = tree.DecisionTreeClassifier(max_depth=7).fit(\n",
    "    independent_variables, dependent_variables)\n",
    "\n",
    "result_independent_variables = test[[\n",
    "    'Pclass', 'Age', 'Sex', 'SibSp', 'Embarked']].values\n",
    "prediction = decision_tree.predict(result_independent_variables)\n",
    "PassengerId = np.array(test[\"PassengerId\"])\n",
    "result = pd.DataFrame({\"PassengerId\": PassengerId, \"Survived\": prediction})\n",
    "result.to_csv(\"../output/result_tree.csv\", index=False)\n"
   ]
  },
  {
   "cell_type": "code",
   "execution_count": null,
   "metadata": {},
   "outputs": [],
   "source": []
  }
 ],
 "metadata": {
  "kernelspec": {
   "display_name": "Python 3.9.0 64-bit ('3.9.0')",
   "language": "python",
   "name": "python3"
  },
  "language_info": {
   "codemirror_mode": {
    "name": "ipython",
    "version": 3
   },
   "file_extension": ".py",
   "mimetype": "text/x-python",
   "name": "python",
   "nbconvert_exporter": "python",
   "pygments_lexer": "ipython3",
   "version": "3.9.0"
  },
  "orig_nbformat": 4,
  "vscode": {
   "interpreter": {
    "hash": "82c96d1983e0d3e65e76c10e92d0aeb5abf27fc3447caab3b1acc74da6e237c2"
   }
  }
 },
 "nbformat": 4,
 "nbformat_minor": 2
}
